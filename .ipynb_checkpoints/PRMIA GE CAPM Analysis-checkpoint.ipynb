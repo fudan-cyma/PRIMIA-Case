{
 "cells": [
  {
   "cell_type": "markdown",
   "metadata": {},
   "source": [
    "# Import packages"
   ]
  },
  {
   "cell_type": "code",
   "execution_count": 1,
   "metadata": {
    "collapsed": false
   },
   "outputs": [
    {
     "name": "stderr",
     "output_type": "stream",
     "text": [
      "/Users/leoma/anaconda/lib/python3.5/site-packages/statsmodels/compat/pandas.py:56: FutureWarning: The pandas.core.datetools module is deprecated and will be removed in a future version. Please use the pandas.tseries module instead.\n",
      "  from pandas.core import datetools\n"
     ]
    }
   ],
   "source": [
    "import pandas as pd\n",
    "import datetime\n",
    "import statsmodels.api as sm\n"
   ]
  },
  {
   "cell_type": "code",
   "execution_count": 2,
   "metadata": {
    "collapsed": false
   },
   "outputs": [
    {
     "name": "stdout",
     "output_type": "stream",
     "text": [
      "Requirement already satisfied: quandl in /Users/leoma/anaconda/lib/python3.5/site-packages\n",
      "Requirement already satisfied: python-dateutil in /Users/leoma/anaconda/lib/python3.5/site-packages (from quandl)\n",
      "Requirement already satisfied: pyOpenSSL in /Users/leoma/anaconda/lib/python3.5/site-packages (from quandl)\n",
      "Requirement already satisfied: six in /Users/leoma/anaconda/lib/python3.5/site-packages (from quandl)\n",
      "Requirement already satisfied: pyasn1 in /Users/leoma/anaconda/lib/python3.5/site-packages (from quandl)\n",
      "Requirement already satisfied: numpy>=1.8 in /Users/leoma/anaconda/lib/python3.5/site-packages (from quandl)\n",
      "Requirement already satisfied: more-itertools in /Users/leoma/anaconda/lib/python3.5/site-packages (from quandl)\n",
      "Requirement already satisfied: ndg-httpsclient in /Users/leoma/anaconda/lib/python3.5/site-packages (from quandl)\n",
      "Requirement already satisfied: requests>=2.7.0 in /Users/leoma/anaconda/lib/python3.5/site-packages (from quandl)\n",
      "Requirement already satisfied: inflection>=0.3.1 in /Users/leoma/anaconda/lib/python3.5/site-packages (from quandl)\n",
      "Requirement already satisfied: pandas>=0.14 in /Users/leoma/anaconda/lib/python3.5/site-packages (from quandl)\n",
      "Requirement already satisfied: cryptography>=1.3.4 in /Users/leoma/anaconda/lib/python3.5/site-packages (from pyOpenSSL->quandl)\n",
      "Requirement already satisfied: pytz>=2011k in /Users/leoma/anaconda/lib/python3.5/site-packages (from pandas>=0.14->quandl)\n",
      "Requirement already satisfied: idna>=2.0 in /Users/leoma/anaconda/lib/python3.5/site-packages (from cryptography>=1.3.4->pyOpenSSL->quandl)\n",
      "Requirement already satisfied: setuptools>=11.3 in /Users/leoma/anaconda/lib/python3.5/site-packages/setuptools-27.2.0-py3.5.egg (from cryptography>=1.3.4->pyOpenSSL->quandl)\n",
      "Requirement already satisfied: cffi>=1.4.1 in /Users/leoma/anaconda/lib/python3.5/site-packages (from cryptography>=1.3.4->pyOpenSSL->quandl)\n",
      "Requirement already satisfied: pycparser in /Users/leoma/anaconda/lib/python3.5/site-packages (from cffi>=1.4.1->cryptography>=1.3.4->pyOpenSSL->quandl)\n"
     ]
    },
    {
     "data": {
      "text/plain": [
       "0"
      ]
     },
     "execution_count": 2,
     "metadata": {},
     "output_type": "execute_result"
    }
   ],
   "source": [
    "import pip\n",
    "pip.main(['install','quandl'])\n",
    "\n"
   ]
  },
  {
   "cell_type": "code",
   "execution_count": 3,
   "metadata": {
    "collapsed": false
   },
   "outputs": [],
   "source": [
    "import quandl\n",
    "\n",
    "\n",
    "def beta(start, end):\n",
    "    GE = quandl.get(\"WIKI/GE\", start_date = start, end_date = end)\n",
    "    DJI = quandl.get('BCB/UDJIAD1', start_date = start, end_date = end)\n",
    "    monthly_prices = pd.concat([GE['Close'], DJI['Value']], axis = 1)\n",
    "    monthly_prices.columns = ['GE','DJI']\n",
    "    monthly_returns = monthly_prices.pct_change(1)\n",
    "    clean_monthly_returns = monthly_returns.dropna(axis=0)\n",
    "    X = clean_monthly_returns['DJI']\n",
    "    y = clean_monthly_returns['GE']\n",
    "    X1 = sm.add_constant(X)\n",
    "    model = sm.OLS(y, X1)\n",
    "    results = model.fit()\n",
    "    print(results.summary())"
   ]
  },
  {
   "cell_type": "markdown",
   "metadata": {},
   "source": [
    "# Time period: 03/31/2008 - 09/30/2008"
   ]
  },
  {
   "cell_type": "code",
   "execution_count": 4,
   "metadata": {
    "collapsed": false
   },
   "outputs": [
    {
     "name": "stdout",
     "output_type": "stream",
     "text": [
      "                            OLS Regression Results                            \n",
      "==============================================================================\n",
      "Dep. Variable:                     GE   R-squared:                       0.716\n",
      "Model:                            OLS   Adj. R-squared:                  0.714\n",
      "Method:                 Least Squares   F-statistic:                     317.5\n",
      "Date:                Mon, 19 Feb 2018   Prob (F-statistic):           3.11e-36\n",
      "Time:                        15:13:51   Log-Likelihood:                 359.80\n",
      "No. Observations:                 128   AIC:                            -715.6\n",
      "Df Residuals:                     126   BIC:                            -709.9\n",
      "Df Model:                           1                                         \n",
      "Covariance Type:            nonrobust                                         \n",
      "==============================================================================\n",
      "                 coef    std err          t      P>|t|      [0.025      0.975]\n",
      "------------------------------------------------------------------------------\n",
      "const         -0.0014      0.001     -1.044      0.298      -0.004       0.001\n",
      "DJI            1.4245      0.080     17.818      0.000       1.266       1.583\n",
      "==============================================================================\n",
      "Omnibus:                       98.214   Durbin-Watson:                   1.705\n",
      "Prob(Omnibus):                  0.000   Jarque-Bera (JB):             1325.408\n",
      "Skew:                          -2.398   Prob(JB):                    1.55e-288\n",
      "Kurtosis:                      18.017   Cond. No.                         61.7\n",
      "==============================================================================\n",
      "\n",
      "Warnings:\n",
      "[1] Standard Errors assume that the covariance matrix of the errors is correctly specified.\n"
     ]
    }
   ],
   "source": [
    "beta(start  ='2008-03-31', end = '2008-09-30')"
   ]
  },
  {
   "cell_type": "markdown",
   "metadata": {},
   "source": [
    "# Time peroid: 09/30/2008 - 01/09/2009"
   ]
  },
  {
   "cell_type": "code",
   "execution_count": 6,
   "metadata": {
    "collapsed": false
   },
   "outputs": [
    {
     "name": "stdout",
     "output_type": "stream",
     "text": [
      "                            OLS Regression Results                            \n",
      "==============================================================================\n",
      "Dep. Variable:                     GE   R-squared:                       0.526\n",
      "Model:                            OLS   Adj. R-squared:                  0.519\n",
      "Method:                 Least Squares   F-statistic:                     75.49\n",
      "Date:                Mon, 19 Feb 2018   Prob (F-statistic):           1.23e-12\n",
      "Time:                        15:14:21   Log-Likelihood:                 132.87\n",
      "No. Observations:                  70   AIC:                            -261.7\n",
      "Df Residuals:                      68   BIC:                            -257.2\n",
      "Df Model:                           1                                         \n",
      "Covariance Type:            nonrobust                                         \n",
      "==============================================================================\n",
      "                 coef    std err          t      P>|t|      [0.025      0.975]\n",
      "------------------------------------------------------------------------------\n",
      "const         -0.0026      0.004     -0.591      0.556      -0.011       0.006\n",
      "DJI            1.0137      0.117      8.689      0.000       0.781       1.246\n",
      "==============================================================================\n",
      "Omnibus:                       20.108   Durbin-Watson:                   2.429\n",
      "Prob(Omnibus):                  0.000   Jarque-Bera (JB):               83.145\n",
      "Skew:                           0.579   Prob(JB):                     8.82e-19\n",
      "Kurtosis:                       8.212   Cond. No.                         26.5\n",
      "==============================================================================\n",
      "\n",
      "Warnings:\n",
      "[1] Standard Errors assume that the covariance matrix of the errors is correctly specified.\n"
     ]
    }
   ],
   "source": [
    "beta(start  ='2008-09-30', end = '2009-01-09')"
   ]
  },
  {
   "cell_type": "markdown",
   "metadata": {},
   "source": [
    "# Time period: 01/09/2009 - 07/09/2009"
   ]
  },
  {
   "cell_type": "code",
   "execution_count": 7,
   "metadata": {
    "collapsed": false
   },
   "outputs": [
    {
     "name": "stdout",
     "output_type": "stream",
     "text": [
      "                            OLS Regression Results                            \n",
      "==============================================================================\n",
      "Dep. Variable:                     GE   R-squared:                       0.495\n",
      "Model:                            OLS   Adj. R-squared:                  0.491\n",
      "Method:                 Least Squares   F-statistic:                     119.6\n",
      "Date:                Mon, 19 Feb 2018   Prob (F-statistic):           8.05e-20\n",
      "Time:                        15:14:25   Log-Likelihood:                 250.58\n",
      "No. Observations:                 124   AIC:                            -497.2\n",
      "Df Residuals:                     122   BIC:                            -491.5\n",
      "Df Model:                           1                                         \n",
      "Covariance Type:            nonrobust                                         \n",
      "==============================================================================\n",
      "                 coef    std err          t      P>|t|      [0.025      0.975]\n",
      "------------------------------------------------------------------------------\n",
      "const         -0.0018      0.003     -0.606      0.545      -0.008       0.004\n",
      "DJI            1.6529      0.151     10.936      0.000       1.354       1.952\n",
      "==============================================================================\n",
      "Omnibus:                       27.909   Durbin-Watson:                   2.010\n",
      "Prob(Omnibus):                  0.000   Jarque-Bera (JB):               81.050\n",
      "Skew:                           0.783   Prob(JB):                     2.51e-18\n",
      "Kurtosis:                       6.638   Cond. No.                         52.1\n",
      "==============================================================================\n",
      "\n",
      "Warnings:\n",
      "[1] Standard Errors assume that the covariance matrix of the errors is correctly specified.\n"
     ]
    }
   ],
   "source": [
    "beta(start  ='2009-01-09', end = '2009-07-09')"
   ]
  }
 ],
 "metadata": {
  "anaconda-cloud": {},
  "kernelspec": {
   "display_name": "Python [default]",
   "language": "python",
   "name": "python3"
  },
  "language_info": {
   "codemirror_mode": {
    "name": "ipython",
    "version": 3
   },
   "file_extension": ".py",
   "mimetype": "text/x-python",
   "name": "python",
   "nbconvert_exporter": "python",
   "pygments_lexer": "ipython3",
   "version": "3.5.2"
  }
 },
 "nbformat": 4,
 "nbformat_minor": 1
}
